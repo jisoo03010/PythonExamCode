{
  "nbformat": 4,
  "nbformat_minor": 0,
  "metadata": {
    "colab": {
      "provenance": [],
      "authorship_tag": "ABX9TyNd7ltueSWUuH6CSXFj+xuk",
      "include_colab_link": true
    },
    "kernelspec": {
      "name": "python3",
      "display_name": "Python 3"
    },
    "language_info": {
      "name": "python"
    }
  },
  "cells": [
    {
      "cell_type": "markdown",
      "metadata": {
        "id": "view-in-github",
        "colab_type": "text"
      },
      "source": [
        "<a href=\"https://colab.research.google.com/github/jisoo03010/PythonExamCode/blob/main/%EA%B3%A0%EA%B8%89_%ED%8C%8C%EC%9D%B4%EC%8D%AC_%ED%94%84%EB%A1%9C%EA%B7%B8%EB%9E%98%EB%B0%8D_%EA%B3%BC%EC%A0%9C_2_20250614.ipynb\" target=\"_parent\"><img src=\"https://colab.research.google.com/assets/colab-badge.svg\" alt=\"Open In Colab\"/></a>"
      ]
    },
    {
      "cell_type": "code",
      "execution_count": 4,
      "metadata": {
        "id": "pE-Pifp7MnVw"
      },
      "outputs": [],
      "source": [
        "PI = 3.14159265358979\n",
        "\n",
        "\n",
        "def circleArea(radius):\n",
        "    return PI * radius * radius\n",
        "\n",
        "def circleCircumferencee(radius):\n",
        "    return 2 * PI * radius"
      ]
    },
    {
      "cell_type": "code",
      "source": [
        "\n",
        "\n",
        "def main():\n",
        "    radius = float(input('원의 반지름을 입력하시오: '))\n",
        "    print('원의 면적:', circleArea(radius))\n",
        "    print('원의 둘레:', circleCircumferencee(radius))\n",
        "    print(\"Test\")\n",
        "\n",
        "\n",
        "\n",
        "\n",
        "if __name__ == \"__main__\":\n",
        "    main()\n"
      ],
      "metadata": {
        "colab": {
          "base_uri": "https://localhost:8080/"
        },
        "id": "SV9Kd2-qNBcd",
        "outputId": "d82e2ab5-42d6-4695-9fcb-3820968adb03"
      },
      "execution_count": 13,
      "outputs": [
        {
          "output_type": "stream",
          "name": "stdout",
          "text": [
            "원의 반지름을 입력하시오: 10\n",
            "원의 면적: 314.159265358979\n",
            "원의 둘레: 62.8318530717958\n",
            "Test\n"
          ]
        }
      ]
    }
  ]
}